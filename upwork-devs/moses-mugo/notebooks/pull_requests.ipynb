{
 "cells": [
  {
   "cell_type": "code",
   "execution_count": 1,
   "metadata": {},
   "outputs": [],
   "source": [
    "# import modules\n",
    "import pandas as pd\n",
    "pd.options.display.max_columns=None\n",
    "import numpy as np\n",
    "from models.pull_requests import PR"
   ]
  },
  {
   "cell_type": "code",
   "execution_count": 2,
   "metadata": {},
   "outputs": [],
   "source": [
    "# list the repos\n",
    "repo =['k8-reverse-proxy','k8-traffic-generator','k8-glasswall-rebuild',\n",
    "       'k8-data-visualization', 'k8-performance-use-cases', 'rebuild-k8s-filetypedetection']"
   ]
  },
  {
   "cell_type": "markdown",
   "metadata": {
    "pycharm": {
     "name": "#%% md\n"
    }
   },
   "source": [
    "### Call Github API class"
   ]
  },
  {
   "cell_type": "code",
   "execution_count": 3,
   "metadata": {},
   "outputs": [],
   "source": [
    "rp = PR(repo[1])"
   ]
  },
  {
   "cell_type": "code",
   "execution_count": 4,
   "metadata": {},
   "outputs": [],
   "source": [
    "# create a dataframe of PR associated to that repo\n",
    "df = rp.get_prs()"
   ]
  },
  {
   "cell_type": "code",
   "execution_count": 5,
   "metadata": {
    "scrolled": true
   },
   "outputs": [
    {
     "name": "stdout",
     "output_type": "stream",
     "text": [
      "PR dataframe has got 2 rows and 35 columns.\n"
     ]
    }
   ],
   "source": [
    "print(\"PR dataframe has got {} rows and {} columns.\".format(*df.shape))"
   ]
  },
  {
   "cell_type": "code",
   "execution_count": 6,
   "metadata": {
    "scrolled": true
   },
   "outputs": [
    {
     "data": {
      "text/html": [
       "<div>\n",
       "<style scoped>\n",
       "    .dataframe tbody tr th:only-of-type {\n",
       "        vertical-align: middle;\n",
       "    }\n",
       "\n",
       "    .dataframe tbody tr th {\n",
       "        vertical-align: top;\n",
       "    }\n",
       "\n",
       "    .dataframe thead th {\n",
       "        text-align: right;\n",
       "    }\n",
       "</style>\n",
       "<table border=\"1\" class=\"dataframe\">\n",
       "  <thead>\n",
       "    <tr style=\"text-align: right;\">\n",
       "      <th></th>\n",
       "      <th>url</th>\n",
       "      <th>id</th>\n",
       "      <th>node_id</th>\n",
       "      <th>html_url</th>\n",
       "      <th>diff_url</th>\n",
       "      <th>patch_url</th>\n",
       "      <th>issue_url</th>\n",
       "      <th>number</th>\n",
       "      <th>state</th>\n",
       "      <th>locked</th>\n",
       "      <th>title</th>\n",
       "      <th>user</th>\n",
       "      <th>body</th>\n",
       "      <th>created_at</th>\n",
       "      <th>updated_at</th>\n",
       "      <th>closed_at</th>\n",
       "      <th>merged_at</th>\n",
       "      <th>merge_commit_sha</th>\n",
       "      <th>assignee</th>\n",
       "      <th>assignees</th>\n",
       "      <th>requested_reviewers</th>\n",
       "      <th>requested_teams</th>\n",
       "      <th>labels</th>\n",
       "      <th>milestone</th>\n",
       "      <th>draft</th>\n",
       "      <th>commits_url</th>\n",
       "      <th>review_comments_url</th>\n",
       "      <th>review_comment_url</th>\n",
       "      <th>comments_url</th>\n",
       "      <th>statuses_url</th>\n",
       "      <th>head</th>\n",
       "      <th>base</th>\n",
       "      <th>_links</th>\n",
       "      <th>author_association</th>\n",
       "      <th>active_lock_reason</th>\n",
       "    </tr>\n",
       "  </thead>\n",
       "  <tbody>\n",
       "    <tr>\n",
       "      <th>0</th>\n",
       "      <td>https://api.github.com/repos/filetrust/k8-traf...</td>\n",
       "      <td>477183419</td>\n",
       "      <td>MDExOlB1bGxSZXF1ZXN0NDc3MTgzNDE5</td>\n",
       "      <td>https://github.com/filetrust/k8-traffic-genera...</td>\n",
       "      <td>https://github.com/filetrust/k8-traffic-genera...</td>\n",
       "      <td>https://github.com/filetrust/k8-traffic-genera...</td>\n",
       "      <td>https://api.github.com/repos/filetrust/k8-traf...</td>\n",
       "      <td>51</td>\n",
       "      <td>open</td>\n",
       "      <td>False</td>\n",
       "      <td>Improve Docker build</td>\n",
       "      <td>{'login': 'yardenshoham', 'id': 20454870, 'nod...</td>\n",
       "      <td>- Made use of multi-stage builds\\r\\n- Leverage...</td>\n",
       "      <td>2020-09-01T16:00:50Z</td>\n",
       "      <td>2020-09-01T16:00:50Z</td>\n",
       "      <td>None</td>\n",
       "      <td>None</td>\n",
       "      <td>1f8461306dcd6c6489e6f10f034d0a97d2b7808b</td>\n",
       "      <td>{'login': 'yardenshoham', 'id': 20454870, 'nod...</td>\n",
       "      <td>[{'login': 'yardenshoham', 'id': 20454870, 'no...</td>\n",
       "      <td>[{'login': 'DinisCruz', 'id': 656739, 'node_id...</td>\n",
       "      <td>[]</td>\n",
       "      <td>[{'id': 2303960343, 'node_id': 'MDU6TGFiZWwyMz...</td>\n",
       "      <td>None</td>\n",
       "      <td>False</td>\n",
       "      <td>https://api.github.com/repos/filetrust/k8-traf...</td>\n",
       "      <td>https://api.github.com/repos/filetrust/k8-traf...</td>\n",
       "      <td>https://api.github.com/repos/filetrust/k8-traf...</td>\n",
       "      <td>https://api.github.com/repos/filetrust/k8-traf...</td>\n",
       "      <td>https://api.github.com/repos/filetrust/k8-traf...</td>\n",
       "      <td>{'label': 'filetrust:improve-docker-for-belwas...</td>\n",
       "      <td>{'label': 'filetrust:master', 'ref': 'master',...</td>\n",
       "      <td>{'self': {'href': 'https://api.github.com/repo...</td>\n",
       "      <td>COLLABORATOR</td>\n",
       "      <td>None</td>\n",
       "    </tr>\n",
       "    <tr>\n",
       "      <th>1</th>\n",
       "      <td>https://api.github.com/repos/filetrust/k8-traf...</td>\n",
       "      <td>477159109</td>\n",
       "      <td>MDExOlB1bGxSZXF1ZXN0NDc3MTU5MTA5</td>\n",
       "      <td>https://github.com/filetrust/k8-traffic-genera...</td>\n",
       "      <td>https://github.com/filetrust/k8-traffic-genera...</td>\n",
       "      <td>https://github.com/filetrust/k8-traffic-genera...</td>\n",
       "      <td>https://api.github.com/repos/filetrust/k8-traf...</td>\n",
       "      <td>50</td>\n",
       "      <td>open</td>\n",
       "      <td>False</td>\n",
       "      <td>Create architecture diagrams for this project ...</td>\n",
       "      <td>{'login': 'ggrig', 'id': 26714598, 'node_id': ...</td>\n",
       "      <td></td>\n",
       "      <td>2020-09-01T15:24:48Z</td>\n",
       "      <td>2020-09-01T16:33:16Z</td>\n",
       "      <td>None</td>\n",
       "      <td>None</td>\n",
       "      <td>6ea02a761a2cca3efb359836d79389569c43412e</td>\n",
       "      <td>{'login': 'ggrig', 'id': 26714598, 'node_id': ...</td>\n",
       "      <td>[{'login': 'ggrig', 'id': 26714598, 'node_id':...</td>\n",
       "      <td>[]</td>\n",
       "      <td>[]</td>\n",
       "      <td>[]</td>\n",
       "      <td>None</td>\n",
       "      <td>False</td>\n",
       "      <td>https://api.github.com/repos/filetrust/k8-traf...</td>\n",
       "      <td>https://api.github.com/repos/filetrust/k8-traf...</td>\n",
       "      <td>https://api.github.com/repos/filetrust/k8-traf...</td>\n",
       "      <td>https://api.github.com/repos/filetrust/k8-traf...</td>\n",
       "      <td>https://api.github.com/repos/filetrust/k8-traf...</td>\n",
       "      <td>{'label': 'ggrig:master', 'ref': 'master', 'sh...</td>\n",
       "      <td>{'label': 'filetrust:master', 'ref': 'master',...</td>\n",
       "      <td>{'self': {'href': 'https://api.github.com/repo...</td>\n",
       "      <td>COLLABORATOR</td>\n",
       "      <td>None</td>\n",
       "    </tr>\n",
       "  </tbody>\n",
       "</table>\n",
       "</div>"
      ],
      "text/plain": [
       "                                                 url         id  \\\n",
       "0  https://api.github.com/repos/filetrust/k8-traf...  477183419   \n",
       "1  https://api.github.com/repos/filetrust/k8-traf...  477159109   \n",
       "\n",
       "                            node_id  \\\n",
       "0  MDExOlB1bGxSZXF1ZXN0NDc3MTgzNDE5   \n",
       "1  MDExOlB1bGxSZXF1ZXN0NDc3MTU5MTA5   \n",
       "\n",
       "                                            html_url  \\\n",
       "0  https://github.com/filetrust/k8-traffic-genera...   \n",
       "1  https://github.com/filetrust/k8-traffic-genera...   \n",
       "\n",
       "                                            diff_url  \\\n",
       "0  https://github.com/filetrust/k8-traffic-genera...   \n",
       "1  https://github.com/filetrust/k8-traffic-genera...   \n",
       "\n",
       "                                           patch_url  \\\n",
       "0  https://github.com/filetrust/k8-traffic-genera...   \n",
       "1  https://github.com/filetrust/k8-traffic-genera...   \n",
       "\n",
       "                                           issue_url  number state  locked  \\\n",
       "0  https://api.github.com/repos/filetrust/k8-traf...      51  open   False   \n",
       "1  https://api.github.com/repos/filetrust/k8-traf...      50  open   False   \n",
       "\n",
       "                                               title  \\\n",
       "0                               Improve Docker build   \n",
       "1  Create architecture diagrams for this project ...   \n",
       "\n",
       "                                                user  \\\n",
       "0  {'login': 'yardenshoham', 'id': 20454870, 'nod...   \n",
       "1  {'login': 'ggrig', 'id': 26714598, 'node_id': ...   \n",
       "\n",
       "                                                body            created_at  \\\n",
       "0  - Made use of multi-stage builds\\r\\n- Leverage...  2020-09-01T16:00:50Z   \n",
       "1                                                     2020-09-01T15:24:48Z   \n",
       "\n",
       "             updated_at closed_at merged_at  \\\n",
       "0  2020-09-01T16:00:50Z      None      None   \n",
       "1  2020-09-01T16:33:16Z      None      None   \n",
       "\n",
       "                           merge_commit_sha  \\\n",
       "0  1f8461306dcd6c6489e6f10f034d0a97d2b7808b   \n",
       "1  6ea02a761a2cca3efb359836d79389569c43412e   \n",
       "\n",
       "                                            assignee  \\\n",
       "0  {'login': 'yardenshoham', 'id': 20454870, 'nod...   \n",
       "1  {'login': 'ggrig', 'id': 26714598, 'node_id': ...   \n",
       "\n",
       "                                           assignees  \\\n",
       "0  [{'login': 'yardenshoham', 'id': 20454870, 'no...   \n",
       "1  [{'login': 'ggrig', 'id': 26714598, 'node_id':...   \n",
       "\n",
       "                                 requested_reviewers requested_teams  \\\n",
       "0  [{'login': 'DinisCruz', 'id': 656739, 'node_id...              []   \n",
       "1                                                 []              []   \n",
       "\n",
       "                                              labels milestone  draft  \\\n",
       "0  [{'id': 2303960343, 'node_id': 'MDU6TGFiZWwyMz...      None  False   \n",
       "1                                                 []      None  False   \n",
       "\n",
       "                                         commits_url  \\\n",
       "0  https://api.github.com/repos/filetrust/k8-traf...   \n",
       "1  https://api.github.com/repos/filetrust/k8-traf...   \n",
       "\n",
       "                                 review_comments_url  \\\n",
       "0  https://api.github.com/repos/filetrust/k8-traf...   \n",
       "1  https://api.github.com/repos/filetrust/k8-traf...   \n",
       "\n",
       "                                  review_comment_url  \\\n",
       "0  https://api.github.com/repos/filetrust/k8-traf...   \n",
       "1  https://api.github.com/repos/filetrust/k8-traf...   \n",
       "\n",
       "                                        comments_url  \\\n",
       "0  https://api.github.com/repos/filetrust/k8-traf...   \n",
       "1  https://api.github.com/repos/filetrust/k8-traf...   \n",
       "\n",
       "                                        statuses_url  \\\n",
       "0  https://api.github.com/repos/filetrust/k8-traf...   \n",
       "1  https://api.github.com/repos/filetrust/k8-traf...   \n",
       "\n",
       "                                                head  \\\n",
       "0  {'label': 'filetrust:improve-docker-for-belwas...   \n",
       "1  {'label': 'ggrig:master', 'ref': 'master', 'sh...   \n",
       "\n",
       "                                                base  \\\n",
       "0  {'label': 'filetrust:master', 'ref': 'master',...   \n",
       "1  {'label': 'filetrust:master', 'ref': 'master',...   \n",
       "\n",
       "                                              _links author_association  \\\n",
       "0  {'self': {'href': 'https://api.github.com/repo...       COLLABORATOR   \n",
       "1  {'self': {'href': 'https://api.github.com/repo...       COLLABORATOR   \n",
       "\n",
       "  active_lock_reason  \n",
       "0               None  \n",
       "1               None  "
      ]
     },
     "execution_count": 6,
     "metadata": {},
     "output_type": "execute_result"
    }
   ],
   "source": [
    "# show the dataframe\n",
    "df.head()"
   ]
  },
  {
   "cell_type": "markdown",
   "source": [
    "### List information headers obtained from the API"
   ],
   "metadata": {
    "collapsed": false
   }
  },
  {
   "cell_type": "code",
   "execution_count": null,
   "outputs": [],
   "source": [
    "df.columns"
   ],
   "metadata": {
    "collapsed": false,
    "pycharm": {
     "name": "#%%\n"
    }
   }
  },
  {
   "cell_type": "markdown",
   "source": [
    "### Get a summary of PRs of a repo"
   ],
   "metadata": {
    "collapsed": false
   }
  },
  {
   "cell_type": "code",
   "execution_count": null,
   "outputs": [],
   "source": [
    "rp.get_summary()['pr_numbers']"
   ],
   "metadata": {
    "collapsed": false,
    "pycharm": {
     "name": "#%%\n"
    }
   }
  },
  {
   "cell_type": "markdown",
   "source": [
    "### Get a report of a PR based on PR numer"
   ],
   "metadata": {
    "collapsed": false
   }
  },
  {
   "cell_type": "code",
   "execution_count": null,
   "outputs": [],
   "source": [
    "rp.get_pr_details(50)"
   ],
   "metadata": {
    "collapsed": false,
    "pycharm": {
     "name": "#%%\n"
    }
   }
  },
  {
   "cell_type": "markdown",
   "source": [
    "### Merge all pull requests from the repos"
   ],
   "metadata": {
    "collapsed": false
   }
  },
  {
   "cell_type": "code",
   "execution_count": null,
   "outputs": [],
   "source": [
    "data = pd.DataFrame()\n",
    "for i in range(0, len(repo)):\n",
    "    data = pd.concat([data, PR(repo[i]).get_prs()])\n",
    "data.shape     "
   ],
   "metadata": {
    "collapsed": false,
    "pycharm": {
     "name": "#%%\n"
    }
   }
  },
  {
   "cell_type": "code",
   "execution_count": null,
   "outputs": [],
   "source": [
    "data.head(2)"
   ],
   "metadata": {
    "collapsed": false,
    "pycharm": {
     "name": "#%%\n"
    }
   }
  },
  {
   "cell_type": "code",
   "execution_count": null,
   "outputs": [],
   "source": [
    "data.state.value_counts()"
   ],
   "metadata": {
    "collapsed": false,
    "pycharm": {
     "name": "#%%\n"
    }
   }
  },
  {
   "cell_type": "markdown",
   "source": [
    "### Users"
   ],
   "metadata": {
    "collapsed": false
   }
  },
  {
   "cell_type": "code",
   "execution_count": null,
   "outputs": [],
   "source": [
    "users = []\n",
    "for i in range(0, len(data)):\n",
    "    users.append(data.user.values[i]['login'])\n",
    "users"
   ],
   "metadata": {
    "collapsed": false,
    "pycharm": {
     "name": "#%%\n"
    }
   }
  },
  {
   "cell_type": "markdown",
   "source": [
    "### Requested reviewers"
   ],
   "metadata": {
    "collapsed": false
   }
  },
  {
   "cell_type": "code",
   "execution_count": null,
   "outputs": [],
   "source": [
    "requested_reviewers = []\n",
    "for i in range(0, len(data)):\n",
    "    if len(data.requested_reviewers.values[i])!=0:\n",
    "        requested_reviewers.append(data.requested_reviewers.values[i][0]['login'])\n",
    "requested_reviewers"
   ],
   "metadata": {
    "collapsed": false,
    "pycharm": {
     "name": "#%%\n"
    }
   }
  },
  {
   "cell_type": "markdown",
   "metadata": {},
   "source": []
  },
  {
   "cell_type": "code",
   "execution_count": 7,
   "metadata": {},
   "outputs": [
    {
     "data": {
      "text/plain": [
       "Index(['url', 'id', 'node_id', 'html_url', 'diff_url', 'patch_url',\n",
       "       'issue_url', 'number', 'state', 'locked', 'title', 'user', 'body',\n",
       "       'created_at', 'updated_at', 'closed_at', 'merged_at',\n",
       "       'merge_commit_sha', 'assignee', 'assignees', 'requested_reviewers',\n",
       "       'requested_teams', 'labels', 'milestone', 'draft', 'commits_url',\n",
       "       'review_comments_url', 'review_comment_url', 'comments_url',\n",
       "       'statuses_url', 'head', 'base', '_links', 'author_association',\n",
       "       'active_lock_reason'],\n",
       "      dtype='object')"
      ]
     },
     "execution_count": 7,
     "metadata": {},
     "output_type": "execute_result"
    }
   ],
   "source": [
    "df.columns"
   ]
  },
  {
   "cell_type": "markdown",
   "metadata": {},
   "source": [
    "### Get a summary of PRs of a repo"
   ]
  },
  {
   "cell_type": "code",
   "execution_count": 11,
   "metadata": {
    "scrolled": true
   },
   "outputs": [
    {
     "data": {
      "text/plain": [
       "[51, 50]"
      ]
     },
     "execution_count": 11,
     "metadata": {},
     "output_type": "execute_result"
    }
   ],
   "source": [
    "rp.get_summary()['pr_numbers']"
   ]
  },
  {
   "cell_type": "markdown",
   "metadata": {},
   "source": [
    "### Get a report of a PR based on PR numer"
   ]
  },
  {
   "cell_type": "code",
   "execution_count": 9,
   "metadata": {
    "scrolled": false
   },
   "outputs": [
    {
     "data": {
      "text/plain": [
       "{'pr_number': 50,\n",
       " 'repo': 'k8-traffic-generator',\n",
       " 'node_id': 'MDExOlB1bGxSZXF1ZXN0NDc3MTU5MTA5',\n",
       " 'state': 'open',\n",
       " 'locked': False,\n",
       " 'title': 'Create architecture diagrams for this project (including who is working on what)',\n",
       " 'user': 'ggrig',\n",
       " 'created_at': '2020-09-01T15:24:48Z',\n",
       " 'updated_at': '2020-09-01T16:33:16Z',\n",
       " 'closed_at': None,\n",
       " 'merged_at': None,\n",
       " 'assignee': ['ggrig'],\n",
       " 'assignees': ['ggrig'],\n",
       " 'requested_reviewers': [None],\n",
       " 'labels': [None],\n",
       " 'author_association': 'COLLABORATOR',\n",
       " 'active_lock_reason': None}"
      ]
     },
     "execution_count": 9,
     "metadata": {},
     "output_type": "execute_result"
    }
   ],
   "source": [
    "rp.get_pr_details(50)"
   ]
  },
  {
   "cell_type": "markdown",
   "metadata": {},
   "source": [
    "### Merge all pull requests from the repos"
   ]
  },
  {
   "cell_type": "code",
   "execution_count": 10,
   "metadata": {
    "pycharm": {
     "name": "#%%\n"
    }
   },
   "outputs": [
    {
     "data": {
      "text/plain": [
       "(11, 35)"
      ]
     },
     "execution_count": 10,
     "metadata": {},
     "output_type": "execute_result"
    }
   ],
   "source": [
    "data = pd.DataFrame()\n",
    "for i in range(0, len(repo)):\n",
    "    data = pd.concat([data, PR(repo[i]).get_prs()])\n",
    "data.shape     "
   ]
  },
  {
   "cell_type": "code",
   "execution_count": 11,
   "metadata": {},
   "outputs": [
    {
     "data": {
      "text/html": [
       "<div>\n",
       "<style scoped>\n",
       "    .dataframe tbody tr th:only-of-type {\n",
       "        vertical-align: middle;\n",
       "    }\n",
       "\n",
       "    .dataframe tbody tr th {\n",
       "        vertical-align: top;\n",
       "    }\n",
       "\n",
       "    .dataframe thead th {\n",
       "        text-align: right;\n",
       "    }\n",
       "</style>\n",
       "<table border=\"1\" class=\"dataframe\">\n",
       "  <thead>\n",
       "    <tr style=\"text-align: right;\">\n",
       "      <th></th>\n",
       "      <th>url</th>\n",
       "      <th>id</th>\n",
       "      <th>node_id</th>\n",
       "      <th>html_url</th>\n",
       "      <th>diff_url</th>\n",
       "      <th>patch_url</th>\n",
       "      <th>issue_url</th>\n",
       "      <th>number</th>\n",
       "      <th>state</th>\n",
       "      <th>locked</th>\n",
       "      <th>title</th>\n",
       "      <th>user</th>\n",
       "      <th>body</th>\n",
       "      <th>created_at</th>\n",
       "      <th>updated_at</th>\n",
       "      <th>closed_at</th>\n",
       "      <th>merged_at</th>\n",
       "      <th>merge_commit_sha</th>\n",
       "      <th>assignee</th>\n",
       "      <th>assignees</th>\n",
       "      <th>requested_reviewers</th>\n",
       "      <th>requested_teams</th>\n",
       "      <th>labels</th>\n",
       "      <th>milestone</th>\n",
       "      <th>draft</th>\n",
       "      <th>commits_url</th>\n",
       "      <th>review_comments_url</th>\n",
       "      <th>review_comment_url</th>\n",
       "      <th>comments_url</th>\n",
       "      <th>statuses_url</th>\n",
       "      <th>head</th>\n",
       "      <th>base</th>\n",
       "      <th>_links</th>\n",
       "      <th>author_association</th>\n",
       "      <th>active_lock_reason</th>\n",
       "    </tr>\n",
       "  </thead>\n",
       "  <tbody>\n",
       "    <tr>\n",
       "      <th>0</th>\n",
       "      <td>https://api.github.com/repos/filetrust/k8-traf...</td>\n",
       "      <td>477183419</td>\n",
       "      <td>MDExOlB1bGxSZXF1ZXN0NDc3MTgzNDE5</td>\n",
       "      <td>https://github.com/filetrust/k8-traffic-genera...</td>\n",
       "      <td>https://github.com/filetrust/k8-traffic-genera...</td>\n",
       "      <td>https://github.com/filetrust/k8-traffic-genera...</td>\n",
       "      <td>https://api.github.com/repos/filetrust/k8-traf...</td>\n",
       "      <td>51</td>\n",
       "      <td>open</td>\n",
       "      <td>False</td>\n",
       "      <td>Improve Docker build</td>\n",
       "      <td>{'login': 'yardenshoham', 'id': 20454870, 'nod...</td>\n",
       "      <td>- Made use of multi-stage builds\\r\\n- Leverage...</td>\n",
       "      <td>2020-09-01T16:00:50Z</td>\n",
       "      <td>2020-09-01T16:00:50Z</td>\n",
       "      <td>None</td>\n",
       "      <td>None</td>\n",
       "      <td>1f8461306dcd6c6489e6f10f034d0a97d2b7808b</td>\n",
       "      <td>{'login': 'yardenshoham', 'id': 20454870, 'nod...</td>\n",
       "      <td>[{'login': 'yardenshoham', 'id': 20454870, 'no...</td>\n",
       "      <td>[{'login': 'DinisCruz', 'id': 656739, 'node_id...</td>\n",
       "      <td>[]</td>\n",
       "      <td>[{'id': 2303960343, 'node_id': 'MDU6TGFiZWwyMz...</td>\n",
       "      <td>None</td>\n",
       "      <td>False</td>\n",
       "      <td>https://api.github.com/repos/filetrust/k8-traf...</td>\n",
       "      <td>https://api.github.com/repos/filetrust/k8-traf...</td>\n",
       "      <td>https://api.github.com/repos/filetrust/k8-traf...</td>\n",
       "      <td>https://api.github.com/repos/filetrust/k8-traf...</td>\n",
       "      <td>https://api.github.com/repos/filetrust/k8-traf...</td>\n",
       "      <td>{'label': 'filetrust:improve-docker-for-belwas...</td>\n",
       "      <td>{'label': 'filetrust:master', 'ref': 'master',...</td>\n",
       "      <td>{'self': {'href': 'https://api.github.com/repo...</td>\n",
       "      <td>COLLABORATOR</td>\n",
       "      <td>None</td>\n",
       "    </tr>\n",
       "    <tr>\n",
       "      <th>1</th>\n",
       "      <td>https://api.github.com/repos/filetrust/k8-traf...</td>\n",
       "      <td>477159109</td>\n",
       "      <td>MDExOlB1bGxSZXF1ZXN0NDc3MTU5MTA5</td>\n",
       "      <td>https://github.com/filetrust/k8-traffic-genera...</td>\n",
       "      <td>https://github.com/filetrust/k8-traffic-genera...</td>\n",
       "      <td>https://github.com/filetrust/k8-traffic-genera...</td>\n",
       "      <td>https://api.github.com/repos/filetrust/k8-traf...</td>\n",
       "      <td>50</td>\n",
       "      <td>open</td>\n",
       "      <td>False</td>\n",
       "      <td>Create architecture diagrams for this project ...</td>\n",
       "      <td>{'login': 'ggrig', 'id': 26714598, 'node_id': ...</td>\n",
       "      <td></td>\n",
       "      <td>2020-09-01T15:24:48Z</td>\n",
       "      <td>2020-09-01T16:33:16Z</td>\n",
       "      <td>None</td>\n",
       "      <td>None</td>\n",
       "      <td>6ea02a761a2cca3efb359836d79389569c43412e</td>\n",
       "      <td>{'login': 'ggrig', 'id': 26714598, 'node_id': ...</td>\n",
       "      <td>[{'login': 'ggrig', 'id': 26714598, 'node_id':...</td>\n",
       "      <td>[]</td>\n",
       "      <td>[]</td>\n",
       "      <td>[]</td>\n",
       "      <td>None</td>\n",
       "      <td>False</td>\n",
       "      <td>https://api.github.com/repos/filetrust/k8-traf...</td>\n",
       "      <td>https://api.github.com/repos/filetrust/k8-traf...</td>\n",
       "      <td>https://api.github.com/repos/filetrust/k8-traf...</td>\n",
       "      <td>https://api.github.com/repos/filetrust/k8-traf...</td>\n",
       "      <td>https://api.github.com/repos/filetrust/k8-traf...</td>\n",
       "      <td>{'label': 'ggrig:master', 'ref': 'master', 'sh...</td>\n",
       "      <td>{'label': 'filetrust:master', 'ref': 'master',...</td>\n",
       "      <td>{'self': {'href': 'https://api.github.com/repo...</td>\n",
       "      <td>COLLABORATOR</td>\n",
       "      <td>None</td>\n",
       "    </tr>\n",
       "  </tbody>\n",
       "</table>\n",
       "</div>"
      ],
      "text/plain": [
       "                                                 url         id  \\\n",
       "0  https://api.github.com/repos/filetrust/k8-traf...  477183419   \n",
       "1  https://api.github.com/repos/filetrust/k8-traf...  477159109   \n",
       "\n",
       "                            node_id  \\\n",
       "0  MDExOlB1bGxSZXF1ZXN0NDc3MTgzNDE5   \n",
       "1  MDExOlB1bGxSZXF1ZXN0NDc3MTU5MTA5   \n",
       "\n",
       "                                            html_url  \\\n",
       "0  https://github.com/filetrust/k8-traffic-genera...   \n",
       "1  https://github.com/filetrust/k8-traffic-genera...   \n",
       "\n",
       "                                            diff_url  \\\n",
       "0  https://github.com/filetrust/k8-traffic-genera...   \n",
       "1  https://github.com/filetrust/k8-traffic-genera...   \n",
       "\n",
       "                                           patch_url  \\\n",
       "0  https://github.com/filetrust/k8-traffic-genera...   \n",
       "1  https://github.com/filetrust/k8-traffic-genera...   \n",
       "\n",
       "                                           issue_url  number state  locked  \\\n",
       "0  https://api.github.com/repos/filetrust/k8-traf...      51  open   False   \n",
       "1  https://api.github.com/repos/filetrust/k8-traf...      50  open   False   \n",
       "\n",
       "                                               title  \\\n",
       "0                               Improve Docker build   \n",
       "1  Create architecture diagrams for this project ...   \n",
       "\n",
       "                                                user  \\\n",
       "0  {'login': 'yardenshoham', 'id': 20454870, 'nod...   \n",
       "1  {'login': 'ggrig', 'id': 26714598, 'node_id': ...   \n",
       "\n",
       "                                                body            created_at  \\\n",
       "0  - Made use of multi-stage builds\\r\\n- Leverage...  2020-09-01T16:00:50Z   \n",
       "1                                                     2020-09-01T15:24:48Z   \n",
       "\n",
       "             updated_at closed_at merged_at  \\\n",
       "0  2020-09-01T16:00:50Z      None      None   \n",
       "1  2020-09-01T16:33:16Z      None      None   \n",
       "\n",
       "                           merge_commit_sha  \\\n",
       "0  1f8461306dcd6c6489e6f10f034d0a97d2b7808b   \n",
       "1  6ea02a761a2cca3efb359836d79389569c43412e   \n",
       "\n",
       "                                            assignee  \\\n",
       "0  {'login': 'yardenshoham', 'id': 20454870, 'nod...   \n",
       "1  {'login': 'ggrig', 'id': 26714598, 'node_id': ...   \n",
       "\n",
       "                                           assignees  \\\n",
       "0  [{'login': 'yardenshoham', 'id': 20454870, 'no...   \n",
       "1  [{'login': 'ggrig', 'id': 26714598, 'node_id':...   \n",
       "\n",
       "                                 requested_reviewers requested_teams  \\\n",
       "0  [{'login': 'DinisCruz', 'id': 656739, 'node_id...              []   \n",
       "1                                                 []              []   \n",
       "\n",
       "                                              labels milestone  draft  \\\n",
       "0  [{'id': 2303960343, 'node_id': 'MDU6TGFiZWwyMz...      None  False   \n",
       "1                                                 []      None  False   \n",
       "\n",
       "                                         commits_url  \\\n",
       "0  https://api.github.com/repos/filetrust/k8-traf...   \n",
       "1  https://api.github.com/repos/filetrust/k8-traf...   \n",
       "\n",
       "                                 review_comments_url  \\\n",
       "0  https://api.github.com/repos/filetrust/k8-traf...   \n",
       "1  https://api.github.com/repos/filetrust/k8-traf...   \n",
       "\n",
       "                                  review_comment_url  \\\n",
       "0  https://api.github.com/repos/filetrust/k8-traf...   \n",
       "1  https://api.github.com/repos/filetrust/k8-traf...   \n",
       "\n",
       "                                        comments_url  \\\n",
       "0  https://api.github.com/repos/filetrust/k8-traf...   \n",
       "1  https://api.github.com/repos/filetrust/k8-traf...   \n",
       "\n",
       "                                        statuses_url  \\\n",
       "0  https://api.github.com/repos/filetrust/k8-traf...   \n",
       "1  https://api.github.com/repos/filetrust/k8-traf...   \n",
       "\n",
       "                                                head  \\\n",
       "0  {'label': 'filetrust:improve-docker-for-belwas...   \n",
       "1  {'label': 'ggrig:master', 'ref': 'master', 'sh...   \n",
       "\n",
       "                                                base  \\\n",
       "0  {'label': 'filetrust:master', 'ref': 'master',...   \n",
       "1  {'label': 'filetrust:master', 'ref': 'master',...   \n",
       "\n",
       "                                              _links author_association  \\\n",
       "0  {'self': {'href': 'https://api.github.com/repo...       COLLABORATOR   \n",
       "1  {'self': {'href': 'https://api.github.com/repo...       COLLABORATOR   \n",
       "\n",
       "  active_lock_reason  \n",
       "0               None  \n",
       "1               None  "
      ]
     },
     "execution_count": 11,
     "metadata": {},
     "output_type": "execute_result"
    }
   ],
   "source": [
    "data.head(2)"
   ]
  },
  {
   "cell_type": "code",
   "execution_count": 12,
   "metadata": {
    "scrolled": true
   },
   "outputs": [
    {
     "data": {
      "text/plain": [
       "open    11\n",
       "Name: state, dtype: int64"
      ]
     },
     "execution_count": 12,
     "metadata": {},
     "output_type": "execute_result"
    }
   ],
   "source": [
    "data.state.value_counts()"
   ]
  },
  {
   "cell_type": "markdown",
   "metadata": {},
   "source": [
    "### Users"
   ]
  },
  {
   "cell_type": "code",
   "execution_count": 13,
   "metadata": {},
   "outputs": [
    {
     "data": {
      "text/plain": [
       "['yardenshoham',\n",
       " 'ggrig',\n",
       " 'markband',\n",
       " 'upworkroozbeh',\n",
       " 'susilupwork',\n",
       " 'rajmbcoderx',\n",
       " 'markband',\n",
       " 'pranaysahith',\n",
       " 'amanthegeek',\n",
       " 'mnjenga2',\n",
       " 'faisaladnanpeltops']"
      ]
     },
     "execution_count": 13,
     "metadata": {},
     "output_type": "execute_result"
    }
   ],
   "source": [
    "users = []\n",
    "for i in range(0, len(data)):\n",
    "    users.append(data.user.values[i]['login'])\n",
    "users"
   ]
  },
  {
   "cell_type": "markdown",
   "metadata": {},
   "source": [
    "### Requested reviewers"
   ]
  },
  {
   "cell_type": "code",
   "execution_count": 14,
   "metadata": {
    "pycharm": {
     "name": "#%%\n"
    },
    "scrolled": true
   },
   "outputs": [
    {
     "data": {
      "text/plain": [
       "['DinisCruz', 'dtollaku', 'dinis-cruz-gw', 'DinisCruz']"
      ]
     },
     "execution_count": 14,
     "metadata": {},
     "output_type": "execute_result"
    }
   ],
   "source": [
    "requested_reviewers = []\n",
    "for i in range(0, len(data)):\n",
    "    if len(data.requested_reviewers.values[i])!=0:\n",
    "        requested_reviewers.append(data.requested_reviewers.values[i][0]['login'])\n",
    "requested_reviewers"
   ]
  },
  {
   "cell_type": "code",
   "execution_count": null,
   "metadata": {},
   "outputs": [],
   "source": []
  }
 ],
 "metadata": {
  "kernelspec": {
   "display_name": "Python 3",
   "language": "python",
   "name": "python3"
  },
  "language_info": {
   "codemirror_mode": {
    "name": "ipython",
    "version": 3
   },
   "file_extension": ".py",
   "mimetype": "text/x-python",
   "name": "python",
   "nbconvert_exporter": "python",
   "pygments_lexer": "ipython3",
   "version": "3.7.5"
  }
 },
 "nbformat": 4,
 "nbformat_minor": 1
}