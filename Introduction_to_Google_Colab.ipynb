{
  "nbformat": 4,
  "nbformat_minor": 0,
  "metadata": {
    "colab": {
      "name": "Introduction to Google Colab.ipynb",
      "provenance": [],
      "authorship_tag": "ABX9TyMwA3+HFxFMpz1GoE6RrddB",
      "include_colab_link": true
    },
    "kernelspec": {
      "name": "python3",
      "display_name": "Python 3"
    }
  },
  "cells": [
    {
      "cell_type": "markdown",
      "metadata": {
        "id": "view-in-github",
        "colab_type": "text"
      },
      "source": [
        "<a href=\"https://colab.research.google.com/github/baker371/k8-data-visualization/blob/master/Introduction_to_Google_Colab.ipynb\" target=\"_parent\"><img src=\"https://colab.research.google.com/assets/colab-badge.svg\" alt=\"Open In Colab\"/></a>"
      ]
    },
    {
      "cell_type": "markdown",
      "metadata": {
        "id": "olglENk1mC3e",
        "colab_type": "text"
      },
      "source": [
        "### <center> **Introduction to Google colaboratory (Colab)** <center>\n"
      ]
    },
    {
      "cell_type": "markdown",
      "metadata": {
        "id": "k1VQnhrtmpG0",
        "colab_type": "text"
      },
      "source": [
        "Google released its internal research tool “Colaboratory” which is a tool for machine learning education and research. It’s a Jupyter notebook environment that requires no setup to use. In simpler terms, it’s a jupyter notebook with all the collaboration abilities of Google docs, meaning more than one person can work on the same code at the same time. But, the real attraction is the free computing power that this tool offers. Google colaboratory currently offers the computing services of a Tesla K80 GPU for free."
      ]
    },
    {
      "cell_type": "markdown",
      "metadata": {
        "id": "z_pXcPmSng8-",
        "colab_type": "text"
      },
      "source": [
        ""
      ]
    }
  ]
}